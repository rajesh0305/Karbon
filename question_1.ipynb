{
  "nbformat": 4,
  "nbformat_minor": 0,
  "metadata": {
    "colab": {
      "provenance": [],
      "mount_file_id": "1nBhJ92BXYx-T1nqRn_VN0VUYlcUsOw1q",
      "authorship_tag": "ABX9TyMEzJzT1D3w3k4+0RcCK6Es",
      "include_colab_link": true
    },
    "kernelspec": {
      "name": "python3",
      "display_name": "Python 3"
    },
    "language_info": {
      "name": "python"
    }
  },
  "cells": [
    {
      "cell_type": "markdown",
      "metadata": {
        "id": "view-in-github",
        "colab_type": "text"
      },
      "source": [
        "<a href=\"https://colab.research.google.com/github/rajesh0305/Karbon/blob/main/question_1.ipynb\" target=\"_parent\"><img src=\"https://colab.research.google.com/assets/colab-badge.svg\" alt=\"Open In Colab\"/></a>"
      ]
    },
    {
      "cell_type": "markdown",
      "source": [
        "#Problem statement:\n",
        "\n",
        "You are given a dataset of a fictional e-commerce platform. The dataset includes tables for users, products, orders, and order items. Design and write SQL queries to:\n",
        "\n",
        "a. Find the top 5 customers by total spend in the last 30 days.\n",
        "\n",
        "b. Find Most purchased product till date.\n"
      ],
      "metadata": {
        "id": "GoCOeaII1gy-"
      }
    },
    {
      "cell_type": "code",
      "source": [
        "import pandas as pd\n",
        "import numpy as np\n",
        "import matplotlib.pyplot as plt\n",
        "import seaborn as sns\n"
      ],
      "metadata": {
        "id": "kt2VXDrt1qbW"
      },
      "execution_count": 1,
      "outputs": []
    },
    {
      "cell_type": "code",
      "source": [
        "import sqlite3\n",
        "\n",
        "conn = sqlite3.connect('/content/drive/MyDrive/karbon_dataset/karbon dataset/SQL-Challenge.sql')\n",
        "cursor = conn.cursor()"
      ],
      "metadata": {
        "id": "-YcYrjWo13ON"
      },
      "execution_count": 2,
      "outputs": []
    },
    {
      "cell_type": "code",
      "source": [
        "import sqlite3\n",
        "db_path = '/content/drive/MyDrive/karbon_dataset/karbon_dataset.db'\n",
        "conn = sqlite3.connect(db_path)\n",
        "cursor = conn.cursor()\n",
        "create_users_table_sql = \"\"\"\n",
        "CREATE TABLE IF NOT EXISTS users (\n",
        "    user_id INTEGER PRIMARY KEY,\n",
        "    username TEXT NOT NULL,\n",
        "    email TEXT NOT NULL,\n",
        "    registration_date TEXT NOT NULL\n",
        ");\n",
        "\"\"\"\n",
        "cursor.execute(create_users_table_sql)\n",
        "conn.commit()\n",
        "conn.close()"
      ],
      "metadata": {
        "id": "pZyUEiKm2aX7"
      },
      "execution_count": 7,
      "outputs": []
    },
    {
      "cell_type": "code",
      "source": [
        "import sqlite3\n",
        "db_path = '/content/drive/MyDrive/karbon_dataset/karbon_dataset.db'\n",
        "conn = sqlite3.connect(db_path)\n",
        "cursor = conn.cursor()\n",
        "create_products_table_sql = \"\"\"\n",
        "CREATE TABLE IF NOT EXISTS products (\n",
        "    product_id INTEGER PRIMARY KEY,\n",
        "    product_name TEXT NOT NULL,\n",
        "    category TEXT NOT NULL,\n",
        "    price REAL NOT NULL\n",
        ");\n",
        "\"\"\"\n",
        "cursor.execute(create_products_table_sql)\n",
        "conn.commit()\n",
        "conn.close()"
      ],
      "metadata": {
        "id": "239Avu5I3pkR"
      },
      "execution_count": 9,
      "outputs": []
    },
    {
      "cell_type": "code",
      "source": [
        "import sqlite3\n",
        "db_path = '/content/drive/MyDrive/karbon_dataset/karbon_dataset.db'\n",
        "conn = sqlite3.connect(db_path)\n",
        "cursor = conn.cursor()\n",
        "insert_users_sql = \"\"\"\n",
        "INSERT INTO users (user_id, username, email, registration_date)\n",
        "VALUES\n",
        "(1, 'john_doe', 'john@example.com', '2023-01-15'),\n",
        "(2, 'jane_smith', 'jane@example.com', '2023-02-20'),\n",
        "(3, 'bob_johnson', 'bob@example.com', '2023-03-10'),\n",
        "(4, 'alice_brown', 'alice@example.com', '2023-04-05'),\n",
        "(5, 'charlie_davis', 'charlie@example.com', '2023-05-01');\n",
        "\"\"\"\n",
        "cursor.execute(insert_users_sql)\n",
        "\n",
        "conn.commit()\n",
        "conn.close()"
      ],
      "metadata": {
        "id": "YHZDp2Tk3t_y"
      },
      "execution_count": 12,
      "outputs": []
    },
    {
      "cell_type": "code",
      "source": [
        "\n",
        "db_path = '/content/drive/MyDrive/karbon_dataset/karbon_dataset.db'\n",
        "conn = sqlite3.connect(db_path)\n",
        "cursor = conn.cursor()\n",
        "create_products_table_sql = \"\"\"\n",
        "CREATE TABLE IF NOT EXISTS products (\n",
        "    product_id INTEGER PRIMARY KEY,\n",
        "    product_name TEXT NOT NULL,\n",
        "    category TEXT NOT NULL,\n",
        "    price REAL NOT NULL\n",
        ");\n",
        "\"\"\"\n",
        "cursor.execute(create_products_table_sql)\n",
        "conn.commit()\n",
        "conn.close()"
      ],
      "metadata": {
        "id": "z4WMSDNT3846"
      },
      "execution_count": 14,
      "outputs": []
    },
    {
      "cell_type": "code",
      "source": [
        "import sqlite3\n",
        "db_path = '/content/drive/MyDrive/karbon_dataset/karbon_dataset.db'\n",
        "conn = sqlite3.connect(db_path)\n",
        "cursor = conn.cursor()\n",
        "create_orders_table_sql = \"\"\"\n",
        "CREATE TABLE IF NOT EXISTS orders (\n",
        "    order_id INTEGER PRIMARY KEY,\n",
        "    user_id INTEGER,\n",
        "    order_date TEXT NOT NULL,\n",
        "    total_amount REAL NOT NULL,\n",
        "    FOREIGN KEY (user_id) REFERENCES users(user_id)\n",
        ");\n",
        "\"\"\"\n",
        "cursor.execute(create_orders_table_sql)\n",
        "conn.commit()\n",
        "conn.close()"
      ],
      "metadata": {
        "id": "eOu3pW9P4NcX"
      },
      "execution_count": 15,
      "outputs": []
    },
    {
      "cell_type": "code",
      "source": [
        "import sqlite3\n",
        "db_path = '/content/drive/MyDrive/karbon_dataset/karbon_dataset.db'\n",
        "\n",
        "conn = sqlite3.connect(db_path)\n",
        "cursor = conn.cursor()\n",
        "\n",
        "create_order_items_table_sql = \"\"\"\n",
        "CREATE TABLE IF NOT EXISTS order_items (\n",
        "    order_item_id INTEGER PRIMARY KEY,\n",
        "    order_id INTEGER,\n",
        "    product_id INTEGER,\n",
        "    quantity INTEGER NOT NULL,\n",
        "    FOREIGN KEY (order_id) REFERENCES orders(order_id),\n",
        "    FOREIGN KEY (product_id) REFERENCES products(product_id)\n",
        ");\n",
        "\"\"\"\n",
        "cursor.execute(create_order_items_table_sql)\n",
        "\n",
        "conn.commit()\n",
        "conn.close()"
      ],
      "metadata": {
        "id": "OFXn_eIp4h1k"
      },
      "execution_count": 16,
      "outputs": []
    },
    {
      "cell_type": "code",
      "source": [
        "import sqlite3\n",
        "\n",
        "db_path = '/content/drive/MyDrive/karbon_dataset/karbon_dataset.db'\n",
        "\n",
        "conn = sqlite3.connect(db_path)\n",
        "cursor = conn.cursor()\n",
        "insert_users_sql = \"\"\"\n",
        "INSERT OR REPLACE INTO users (user_id, username, email, registration_date) VALUES\n",
        "(1, 'john_doe', 'john@example.com', '2023-01-15'),\n",
        "(2, 'jane_smith', 'jane@example.com', '2023-02-20'),\n",
        "(3, 'bob_johnson', 'bob@example.com', '2023-03-10'),\n",
        "(4, 'alice_brown', 'alice@example.com', '2023-04-05'),\n",
        "(5, 'charlie_davis', 'charlie@example.com', '2023-05-01');\n",
        "\"\"\"\n",
        "\n",
        "cursor.executescript(insert_users_sql)\n",
        "conn.commit()\n",
        "conn.close()"
      ],
      "metadata": {
        "id": "Sw0xbLFs4sPw"
      },
      "execution_count": 18,
      "outputs": []
    },
    {
      "cell_type": "code",
      "source": [
        "import sqlite3\n",
        "\n",
        "db_path = '/content/drive/MyDrive/karbon_dataset/karbon_dataset.db'\n",
        "\n",
        "conn = sqlite3.connect(db_path)\n",
        "cursor = conn.cursor()\n",
        "\n",
        "insert_products_sql = \"\"\"\n",
        "INSERT INTO products (product_id, product_name, category, price) VALUES\n",
        "(1, 'Laptop', 'Electronics', 999.99),\n",
        "(2, 'Smartphone', 'Electronics', 599.99),\n",
        "(3, 'Headphones', 'Electronics', 149.99),\n",
        "(4, 'Running Shoes', 'Sports', 79.99),\n",
        "(5, 'Backpack', 'Accessories', 49.99);\n",
        "\"\"\"\n",
        "\n",
        "\n",
        "cursor.executescript(insert_products_sql)\n",
        "conn.commit()\n",
        "conn.close()"
      ],
      "metadata": {
        "id": "r5im1gJy45ml"
      },
      "execution_count": 19,
      "outputs": []
    },
    {
      "cell_type": "code",
      "source": [
        "db_path = '/content/drive/MyDrive/karbon_dataset/karbon_dataset.db'\n",
        "\n",
        "conn = sqlite3.connect(db_path)\n",
        "cursor = conn.cursor()\n",
        "insert_orders_sql = \"\"\"\n",
        "INSERT INTO orders (order_id, user_id, order_date, total_amount) VALUES\n",
        "(1, 1, '2024-08-01', 1149.98),\n",
        "(2, 2, '2024-08-02', 599.99),\n",
        "(3, 3, '2024-08-03', 229.98),\n",
        "(4, 4, '2024-08-04', 999.99),\n",
        "(5, 5, '2024-08-05', 129.98),\n",
        "(6, 1, '2024-08-06', 749.98),\n",
        "(7, 2, '2024-08-07', 1049.98),\n",
        "(8, 3, '2024-08-08', 79.99),\n",
        "(9, 4, '2024-08-09', 199.98),\n",
        "(10, 5, '2024-08-10', 599.99);\n",
        "\"\"\"\n",
        "\n",
        "cursor.executescript(insert_orders_sql)\n",
        "conn.commit()\n",
        "conn.close()"
      ],
      "metadata": {
        "id": "DpZtsGWw5Tgd"
      },
      "execution_count": 20,
      "outputs": []
    },
    {
      "cell_type": "code",
      "source": [
        "\n",
        "db_path = '/content/drive/MyDrive/karbon_dataset/karbon_dataset.db'\n",
        "\n",
        "conn = sqlite3.connect(db_path)\n",
        "cursor = conn.cursor()\n",
        "\n",
        "insert_order_items_sql = \"\"\"\n",
        "INSERT INTO order_items (order_item_id, order_id, product_id, quantity) VALUES\n",
        "(1, 1, 1, 1),\n",
        "(2, 1, 3, 1),\n",
        "(3, 2, 2, 1),\n",
        "(4, 3, 3, 1),\n",
        "(5, 3, 5, 1),\n",
        "(6, 4, 1, 1),\n",
        "(7, 5, 4, 1),\n",
        "(8, 5, 5, 1),\n",
        "(9, 6, 2, 1),\n",
        "(10, 6, 3, 1),\n",
        "(11, 7, 1, 1),\n",
        "(12, 7, 5, 1),\n",
        "(13, 8, 4, 1),\n",
        "(14, 9, 3, 1),\n",
        "(15, 9, 5, 1),\n",
        "(16, 10, 2, 1);\n",
        "\"\"\"\n",
        "cursor.executescript(insert_order_items_sql)\n",
        "conn.commit()\n",
        "conn.close()"
      ],
      "metadata": {
        "id": "N0wLYhXB5fOe"
      },
      "execution_count": 21,
      "outputs": []
    },
    {
      "cell_type": "code",
      "source": [
        "import sqlite3\n",
        "\n",
        "db_path = '/content/drive/MyDrive/karbon_dataset/karbon_dataset.db'\n",
        "\n",
        "conn = sqlite3.connect(db_path)\n",
        "cursor = conn.cursor()\n",
        "def display_table(table_name):\n",
        "    query = f\"SELECT * FROM {table_name};\"\n",
        "    cursor.execute(query)\n",
        "    rows = cursor.fetchall()\n",
        "    columns = [desc[0] for desc in cursor.description]\n",
        "    print(f\"\\nTable: {table_name}\")\n",
        "    print(columns)\n",
        "    for row in rows:\n",
        "        print(row)\n",
        "\n",
        "for table in ['users', 'products', 'orders', 'order_items']:\n",
        "    display_table(table)\n",
        "\n",
        "conn.close()"
      ],
      "metadata": {
        "colab": {
          "base_uri": "https://localhost:8080/"
        },
        "id": "uEGNEw1L5n8R",
        "outputId": "15a991dc-58a6-49db-f580-b131be687a76"
      },
      "execution_count": 22,
      "outputs": [
        {
          "output_type": "stream",
          "name": "stdout",
          "text": [
            "\n",
            "Table: users\n",
            "['user_id', 'username', 'email', 'registration_date']\n",
            "(1, 'john_doe', 'john@example.com', '2023-01-15')\n",
            "(2, 'jane_smith', 'jane@example.com', '2023-02-20')\n",
            "(3, 'bob_johnson', 'bob@example.com', '2023-03-10')\n",
            "(4, 'alice_brown', 'alice@example.com', '2023-04-05')\n",
            "(5, 'charlie_davis', 'charlie@example.com', '2023-05-01')\n",
            "\n",
            "Table: products\n",
            "['product_id', 'product_name', 'category', 'price']\n",
            "(1, 'Laptop', 'Electronics', 999.99)\n",
            "(2, 'Smartphone', 'Electronics', 599.99)\n",
            "(3, 'Headphones', 'Electronics', 149.99)\n",
            "(4, 'Running Shoes', 'Sports', 79.99)\n",
            "(5, 'Backpack', 'Accessories', 49.99)\n",
            "\n",
            "Table: orders\n",
            "['order_id', 'user_id', 'order_date', 'total_amount']\n",
            "(1, 1, '2024-08-01', 1149.98)\n",
            "(2, 2, '2024-08-02', 599.99)\n",
            "(3, 3, '2024-08-03', 229.98)\n",
            "(4, 4, '2024-08-04', 999.99)\n",
            "(5, 5, '2024-08-05', 129.98)\n",
            "(6, 1, '2024-08-06', 749.98)\n",
            "(7, 2, '2024-08-07', 1049.98)\n",
            "(8, 3, '2024-08-08', 79.99)\n",
            "(9, 4, '2024-08-09', 199.98)\n",
            "(10, 5, '2024-08-10', 599.99)\n",
            "\n",
            "Table: order_items\n",
            "['order_item_id', 'order_id', 'product_id', 'quantity']\n",
            "(1, 1, 1, 1)\n",
            "(2, 1, 3, 1)\n",
            "(3, 2, 2, 1)\n",
            "(4, 3, 3, 1)\n",
            "(5, 3, 5, 1)\n",
            "(6, 4, 1, 1)\n",
            "(7, 5, 4, 1)\n",
            "(8, 5, 5, 1)\n",
            "(9, 6, 2, 1)\n",
            "(10, 6, 3, 1)\n",
            "(11, 7, 1, 1)\n",
            "(12, 7, 5, 1)\n",
            "(13, 8, 4, 1)\n",
            "(14, 9, 3, 1)\n",
            "(15, 9, 5, 1)\n",
            "(16, 10, 2, 1)\n"
          ]
        }
      ]
    },
    {
      "cell_type": "code",
      "source": [],
      "metadata": {
        "id": "JXAI_U457KBw"
      },
      "execution_count": null,
      "outputs": []
    }
  ]
}