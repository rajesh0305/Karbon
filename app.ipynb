{
  "nbformat": 4,
  "nbformat_minor": 0,
  "metadata": {
    "colab": {
      "provenance": [],
      "gpuType": "T4",
      "authorship_tag": "ABX9TyO8VEWPNMJqRk5gbLpSbHcH",
      "include_colab_link": true
    },
    "kernelspec": {
      "name": "python3",
      "display_name": "Python 3"
    },
    "language_info": {
      "name": "python"
    },
    "accelerator": "GPU"
  },
  "cells": [
    {
      "cell_type": "markdown",
      "metadata": {
        "id": "view-in-github",
        "colab_type": "text"
      },
      "source": [
        "<a href=\"https://colab.research.google.com/github/rajesh0305/Karbon/blob/main/app.ipynb\" target=\"_parent\"><img src=\"https://colab.research.google.com/assets/colab-badge.svg\" alt=\"Open In Colab\"/></a>"
      ]
    },
    {
      "cell_type": "code",
      "execution_count": null,
      "metadata": {
        "colab": {
          "base_uri": "https://localhost:8080/"
        },
        "id": "oK6tVkIxtsAr",
        "outputId": "782bc0ec-664a-4d59-df5b-1ae98cd472fe"
      },
      "outputs": [
        {
          "output_type": "stream",
          "name": "stdout",
          "text": [
            " * Serving Flask app '__main__'\n",
            " * Debug mode: on\n"
          ]
        },
        {
          "output_type": "stream",
          "name": "stderr",
          "text": [
            "INFO:werkzeug:\u001b[31m\u001b[1mWARNING: This is a development server. Do not use it in a production deployment. Use a production WSGI server instead.\u001b[0m\n",
            " * Running on http://127.0.0.1:5000\n",
            "INFO:werkzeug:\u001b[33mPress CTRL+C to quit\u001b[0m\n",
            "INFO:werkzeug: * Restarting with stat\n"
          ]
        }
      ],
      "source": [
        "from flask import Flask, jsonify, request\n",
        "\n",
        "app = Flask(__name__)\n",
        "\n",
        "\n",
        "land_use_data = [\n",
        "    {'id': 1, 'type': 'forest', 'area': 1000},\n",
        "    {'id': 2, 'type': 'urban', 'area': 2000},\n",
        "    {'id': 3, 'type': 'water', 'area': 500},\n",
        "]\n",
        "\n",
        "\n",
        "@app.route('/landuse', methods=['GET'])\n",
        "def get_land_use_data():\n",
        "    return jsonify(land_use_data)\n",
        "\n",
        "\n",
        "@app.route('/landuse/<int:data_id>', methods=['GET'])\n",
        "def get_land_use_by_id(data_id):\n",
        "    data = next((item for item in land_use_data if item['id'] == data_id), None)\n",
        "    if data:\n",
        "        return jsonify(data)\n",
        "    return jsonify({'message': 'Data not found'}), 404\n",
        "\n",
        "\n",
        "@app.route('/landuse', methods=['POST'])\n",
        "def add_land_use_data():\n",
        "    new_data = request.get_json()\n",
        "    if 'type' in new_data and 'area' in new_data:\n",
        "        new_data['id'] = len(land_use_data) + 1\n",
        "        land_use_data.append(new_data)\n",
        "        return jsonify(new_data), 201\n",
        "    return jsonify({'message': 'Invalid data'}), 400\n",
        "\n",
        "\n",
        "@app.route('/landuse/<int:data_id>', methods=['PUT'])\n",
        "def update_land_use_data(data_id):\n",
        "    data = next((item for item in land_use_data if item['id'] == data_id), None)\n",
        "    if data:\n",
        "        updated_data = request.get_json()\n",
        "        data.update(updated_data)\n",
        "        return jsonify(data)\n",
        "    return jsonify({'message': 'Data not found'}), 404\n",
        "\n",
        "\n",
        "@app.route('/landuse/<int:data_id>', methods=['DELETE'])\n",
        "def delete_land_use_data(data_id):\n",
        "    data = next((item for item in land_use_data if item['id'] == data_id), None)\n",
        "    if data:\n",
        "        land_use_data.remove(data)\n",
        "        return jsonify({'message': 'Data deleted'})\n",
        "    return jsonify({'message': 'Data not found'}), 404\n",
        "\n",
        "if __name__ == '__main__':\n",
        "    app.run(debug=True)"
      ]
    },
    {
      "cell_type": "code",
      "source": [],
      "metadata": {
        "id": "aXI96pSottyd"
      },
      "execution_count": null,
      "outputs": []
    }
  ]
}