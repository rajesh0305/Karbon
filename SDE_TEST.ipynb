{
  "nbformat": 4,
  "nbformat_minor": 0,
  "metadata": {
    "colab": {
      "provenance": [],
      "gpuType": "T4",
      "mount_file_id": "1IRQBdY6OPFlO_QqXrEpOO9ZoRTjtu8NE",
      "authorship_tag": "ABX9TyPQRUjvZ2CIr1tMJsobEuo9",
      "include_colab_link": true
    },
    "kernelspec": {
      "name": "python3",
      "display_name": "Python 3"
    },
    "language_info": {
      "name": "python"
    },
    "accelerator": "GPU"
  },
  "cells": [
    {
      "cell_type": "markdown",
      "metadata": {
        "id": "view-in-github",
        "colab_type": "text"
      },
      "source": [
        "<a href=\"https://colab.research.google.com/github/rajesh0305/Karbon/blob/main/SDE_TEST.ipynb\" target=\"_parent\"><img src=\"https://colab.research.google.com/assets/colab-badge.svg\" alt=\"Open In Colab\"/></a>"
      ]
    },
    {
      "cell_type": "code",
      "execution_count": null,
      "metadata": {
        "id": "0DSVSZRNTVF0"
      },
      "outputs": [],
      "source": []
    },
    {
      "cell_type": "markdown",
      "source": [
        "#Problem Statement\n",
        "\n",
        "**Module 1** - Create a simple financial analysis model. (1 hour)\n",
        "You have been given 3 files -\n",
        "a. rules.py -> Financial analysis model uses rules defined in this file. Please read the\n",
        "function comments and write your implementation. Please check the example rule\n",
        "latest_financial_index for your reference.\n",
        "\n",
        "b. model.py -> uses rules defined in rules.py to output results in json format.\n",
        "c. data.json -> This is data file used in rules.\n",
        "\n",
        "\n",
        "**Module 2 ** Create a Web App that uses the model.py defined in module 1. (Any\n",
        "framework/ Nocode tool will work) (30 mins)\n",
        "\n",
        "This web application will have two pages-\n",
        "a. Page 1 - On this page, you can upload the data file data.json and click on submit.\n",
        "\n",
        "After clicking submit, you have to use model.py to get the result in json.\n",
        "b. Page 2 - On this page, you have to display results that you got from model.py"
      ],
      "metadata": {
        "id": "LxR9xtKki39T"
      }
    },
    {
      "cell_type": "markdown",
      "source": [
        "**Module 1 **- Create a simple financial analysis model. (1 hour)\n",
        "You have been given 3 files -\n",
        "\n",
        "\n",
        "a. rules.py -> Financial analysis model uses rules defined in this file. Please read the\n",
        "function comments and write your implementation. Please check the example rule\n",
        "latest_financial_index for your reference.\n",
        "\n",
        "\n",
        "b. model.py -> uses rules defined in rules.py to output results in json format.\n",
        "\n",
        "\n",
        "c. data.json -> This is data file used in rules."
      ],
      "metadata": {
        "id": "B2zcDb1Djojj"
      }
    },
    {
      "cell_type": "code",
      "source": [
        "import sys\n",
        "sys.path.append('/content/drive/MyDrive/karbon dataset/question 2 sde/Copy of rules.py')  # Replace with the actual path"
      ],
      "metadata": {
        "id": "Koj_VKhZoVMc"
      },
      "execution_count": 11,
      "outputs": []
    },
    {
      "cell_type": "code",
      "source": [
        "!pip install flask"
      ],
      "metadata": {
        "colab": {
          "base_uri": "https://localhost:8080/"
        },
        "id": "MiZgr27Bji5a",
        "outputId": "de39c58d-5f4e-4448-b0d1-33afb72cef07"
      },
      "execution_count": 12,
      "outputs": [
        {
          "output_type": "stream",
          "name": "stdout",
          "text": [
            "Requirement already satisfied: flask in /usr/local/lib/python3.10/dist-packages (2.2.5)\n",
            "Requirement already satisfied: Werkzeug>=2.2.2 in /usr/local/lib/python3.10/dist-packages (from flask) (3.0.4)\n",
            "Requirement already satisfied: Jinja2>=3.0 in /usr/local/lib/python3.10/dist-packages (from flask) (3.1.4)\n",
            "Requirement already satisfied: itsdangerous>=2.0 in /usr/local/lib/python3.10/dist-packages (from flask) (2.2.0)\n",
            "Requirement already satisfied: click>=8.0 in /usr/local/lib/python3.10/dist-packages (from flask) (8.1.7)\n",
            "Requirement already satisfied: MarkupSafe>=2.0 in /usr/local/lib/python3.10/dist-packages (from Jinja2>=3.0->flask) (2.1.5)\n"
          ]
        }
      ]
    },
    {
      "cell_type": "code",
      "source": [
        "# rules.py\n",
        "\n",
        "def latest_financial_index(data):\n",
        "    \"\"\"\n",
        "    This rule returns the latest financial index from the data.\n",
        "    Assumes that 'financial_indices' is a list of dictionaries in the data.\n",
        "    \"\"\"\n",
        "    financial_indices = data.get('financial_indices', [])\n",
        "\n",
        "    if not financial_indices:\n",
        "        return None\n",
        "\n",
        "    latest_index = financial_indices[-1]\n",
        "    return latest_index\n",
        "\n",
        "def calculate_debt_to_income_ratio(data):\n",
        "    \"\"\"\n",
        "    Calculate the debt-to-income ratio.\n",
        "    Formula: total_debt / total_income\n",
        "    Assumes 'total_debt' and 'total_income' are present in data.\n",
        "    \"\"\"\n",
        "    total_debt = data.get('total_debt', 0)\n",
        "    total_income = data.get('total_income', 1)\n",
        "    return total_debt / total_income\n",
        "\n",
        "def calculate_net_worth(data):\n",
        "    \"\"\"\n",
        "    Calculate the net worth.\n",
        "    Formula: total_assets - total_liabilities\n",
        "    Assumes 'total_assets' and 'total_liabilities' are present in data.\n",
        "    \"\"\"\n",
        "    total_assets = data.get('total_assets', 0)\n",
        "    total_liabilities = data.get('total_liabilities', 0)\n",
        "\n",
        "    return total_assets - total_liabilities"
      ],
      "metadata": {
        "id": "HuRNkLxQksQe"
      },
      "execution_count": 22,
      "outputs": []
    },
    {
      "cell_type": "code",
      "source": [
        "# model.py\n",
        "\n",
        "import json\n",
        "import sys\n",
        "sys.path.append('/content/drive/MyDrive/karbon_dataset/rules.py')\n",
        "from rules import latest_financial_index, calculate_debt_to_income_ratio, calculate_net_worth\n",
        "\n",
        "def analyze_financial_data(data):\n",
        "    \"\"\"\n",
        "    This function applies financial rules on the input data and returns results in json format.\n",
        "    \"\"\"\n",
        "    latest_index = latest_financial_index(data)\n",
        "    debt_to_income_ratio = calculate_debt_to_income_ratio(data)\n",
        "    net_worth = calculate_net_worth(data)\n",
        "\n",
        "    results = {\n",
        "        \"latest_financial_index\": latest_index,\n",
        "        \"debt_to_income_ratio\": debt_to_income_ratio,\n",
        "        \"net_worth\": net_worth\n",
        "    }\n",
        "\n",
        "    return results\n",
        "\n",
        "if __name__ == \"__main__\":\n",
        "    with open('data.json', 'r') as file:\n",
        "        data = json.load(file)\n",
        "\n",
        "    results = analyze_financial_data(data)\n",
        "\n",
        "    with open('results.json', 'w') as result_file:\n",
        "        json.dump(results, result_file, indent=4)\n",
        "\n",
        "    # Print results to console as well\n",
        "    print(json.dumps(results, indent=4))"
      ],
      "metadata": {
        "colab": {
          "base_uri": "https://localhost:8080/",
          "height": 383
        },
        "id": "rhLtrEOUk4Ry",
        "outputId": "ce94cfe5-0780-4825-e790-99ad2c6bb092"
      },
      "execution_count": 26,
      "outputs": [
        {
          "output_type": "error",
          "ename": "ImportError",
          "evalue": "cannot import name 'calculate_debt_to_income_ratio' from 'rules' (/content/drive/MyDrive/karbon_dataset/rules.py)",
          "traceback": [
            "\u001b[0;31m---------------------------------------------------------------------------\u001b[0m",
            "\u001b[0;31mImportError\u001b[0m                               Traceback (most recent call last)",
            "\u001b[0;32m<ipython-input-26-e5b22e590a9f>\u001b[0m in \u001b[0;36m<cell line: 6>\u001b[0;34m()\u001b[0m\n\u001b[1;32m      4\u001b[0m \u001b[0;32mimport\u001b[0m \u001b[0msys\u001b[0m\u001b[0;34m\u001b[0m\u001b[0;34m\u001b[0m\u001b[0m\n\u001b[1;32m      5\u001b[0m \u001b[0msys\u001b[0m\u001b[0;34m.\u001b[0m\u001b[0mpath\u001b[0m\u001b[0;34m.\u001b[0m\u001b[0mappend\u001b[0m\u001b[0;34m(\u001b[0m\u001b[0;34m'/content/drive/MyDrive/karbon_dataset/rules.py'\u001b[0m\u001b[0;34m)\u001b[0m \u001b[0;31m# Add the path to the directory containing 'rules.py'\u001b[0m\u001b[0;34m\u001b[0m\u001b[0;34m\u001b[0m\u001b[0m\n\u001b[0;32m----> 6\u001b[0;31m \u001b[0;32mfrom\u001b[0m \u001b[0mrules\u001b[0m \u001b[0;32mimport\u001b[0m \u001b[0mlatest_financial_index\u001b[0m\u001b[0;34m,\u001b[0m \u001b[0mcalculate_debt_to_income_ratio\u001b[0m\u001b[0;34m,\u001b[0m \u001b[0mcalculate_net_worth\u001b[0m\u001b[0;34m\u001b[0m\u001b[0;34m\u001b[0m\u001b[0m\n\u001b[0m\u001b[1;32m      7\u001b[0m \u001b[0;34m\u001b[0m\u001b[0m\n\u001b[1;32m      8\u001b[0m \u001b[0;32mdef\u001b[0m \u001b[0manalyze_financial_data\u001b[0m\u001b[0;34m(\u001b[0m\u001b[0mdata\u001b[0m\u001b[0;34m)\u001b[0m\u001b[0;34m:\u001b[0m\u001b[0;34m\u001b[0m\u001b[0;34m\u001b[0m\u001b[0m\n",
            "\u001b[0;31mImportError\u001b[0m: cannot import name 'calculate_debt_to_income_ratio' from 'rules' (/content/drive/MyDrive/karbon_dataset/rules.py)",
            "",
            "\u001b[0;31m---------------------------------------------------------------------------\u001b[0;32m\nNOTE: If your import is failing due to a missing package, you can\nmanually install dependencies using either !pip or !apt.\n\nTo view examples of installing some common dependencies, click the\n\"Open Examples\" button below.\n\u001b[0;31m---------------------------------------------------------------------------\u001b[0m\n"
          ],
          "errorDetails": {
            "actions": [
              {
                "action": "open_url",
                "actionText": "Open Examples",
                "url": "/notebooks/snippets/importing_libraries.ipynb"
              }
            ]
          }
        }
      ]
    },
    {
      "cell_type": "code",
      "source": [
        "# model.py\n",
        "\n",
        "import rules\n",
        "\n",
        "class FinancialModel:\n",
        "    def __init__(self, data):\n",
        "        self.data = data\n",
        "\n",
        "    def analyze(self):\n",
        "        \"\"\"\n",
        "        Run analysis on the provided data using the rules from rules.py.\n",
        "        Returns a dictionary with the results of the analysis.\n",
        "        \"\"\"\n",
        "        results = {}\n",
        "        results['latest_financial_index'] = rules.latest_financial_index(self.data)\n",
        "        results['total_revenue'] = rules.rule_total_revenue(self.data)\n",
        "        results['total_expenses'] = rules.rule_total_expenses(self.data)\n",
        "        results['net_profit'] = rules.rule_net_profit(self.data)\n",
        "\n",
        "        return results"
      ],
      "metadata": {
        "colab": {
          "base_uri": "https://localhost:8080/",
          "height": 383
        },
        "id": "PXv5dzttnQ35",
        "outputId": "1f801a0a-5bb5-4308-e231-62e371541d6a"
      },
      "execution_count": 8,
      "outputs": [
        {
          "output_type": "error",
          "ename": "ModuleNotFoundError",
          "evalue": "No module named 'rules'",
          "traceback": [
            "\u001b[0;31m---------------------------------------------------------------------------\u001b[0m",
            "\u001b[0;31mModuleNotFoundError\u001b[0m                       Traceback (most recent call last)",
            "\u001b[0;32m<ipython-input-8-bd26ebe6d866>\u001b[0m in \u001b[0;36m<cell line: 3>\u001b[0;34m()\u001b[0m\n\u001b[1;32m      1\u001b[0m \u001b[0;31m# model.py\u001b[0m\u001b[0;34m\u001b[0m\u001b[0;34m\u001b[0m\u001b[0m\n\u001b[1;32m      2\u001b[0m \u001b[0;34m\u001b[0m\u001b[0m\n\u001b[0;32m----> 3\u001b[0;31m \u001b[0;32mimport\u001b[0m \u001b[0mrules\u001b[0m\u001b[0;34m\u001b[0m\u001b[0;34m\u001b[0m\u001b[0m\n\u001b[0m\u001b[1;32m      4\u001b[0m \u001b[0;34m\u001b[0m\u001b[0m\n\u001b[1;32m      5\u001b[0m \u001b[0;32mclass\u001b[0m \u001b[0mFinancialModel\u001b[0m\u001b[0;34m:\u001b[0m\u001b[0;34m\u001b[0m\u001b[0;34m\u001b[0m\u001b[0m\n",
            "\u001b[0;31mModuleNotFoundError\u001b[0m: No module named 'rules'",
            "",
            "\u001b[0;31m---------------------------------------------------------------------------\u001b[0;32m\nNOTE: If your import is failing due to a missing package, you can\nmanually install dependencies using either !pip or !apt.\n\nTo view examples of installing some common dependencies, click the\n\"Open Examples\" button below.\n\u001b[0;31m---------------------------------------------------------------------------\u001b[0m\n"
          ],
          "errorDetails": {
            "actions": [
              {
                "action": "open_url",
                "actionText": "Open Examples",
                "url": "/notebooks/snippets/importing_libraries.ipynb"
              }
            ]
          }
        }
      ]
    },
    {
      "cell_type": "code",
      "source": [],
      "metadata": {
        "id": "6U2IhN4onnFf"
      },
      "execution_count": null,
      "outputs": []
    }
  ]
}